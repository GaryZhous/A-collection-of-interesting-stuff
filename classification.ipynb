{
  "nbformat": 4,
  "nbformat_minor": 0,
  "metadata": {
    "colab": {
      "name": "convmixer-classification.ipynb",
      "provenance": [],
      "include_colab_link": true
    },
    "kernelspec": {
      "name": "python3",
      "display_name": "Python 3"
    },
    "language_info": {
      "name": "python"
    }
  },
  "cells": [
    {
      "cell_type": "markdown",
      "metadata": {
        "id": "view-in-github",
        "colab_type": "text"
      },
      "source": [
        "<a href=\"https://colab.research.google.com/github/GaryZhous/A-collection-of-interesting-stuff/blob/main/classification.ipynb\" target=\"_parent\"><img src=\"https://colab.research.google.com/assets/colab-badge.svg\" alt=\"Open In Colab\"/></a>"
      ]
    },
    {
      "cell_type": "markdown",
      "metadata": {
        "id": "RD0B7RXrHWsh"
      },
      "source": [
        "# Classification\n",
        "\n",
        "Authors: [Rishit Dagli](https://twitter.com/rishit_dagli)\n",
        "\n",
        "In this Notebook we will use the models we converted earlier to do image classification."
      ]
    },
    {
      "cell_type": "markdown",
      "metadata": {
        "id": "CHNG3cfWHt3j"
      },
      "source": [
        "## Setup"
      ]
    },
    {
      "cell_type": "code",
      "metadata": {
        "id": "z7-pdPoYHsus"
      },
      "source": [
        "import tensorflow as tf\n",
        "import tensorflow_hub as hub\n",
        "\n",
        "from PIL import Image\n",
        "from io import BytesIO\n",
        "import matplotlib.pyplot as plt\n",
        "import numpy as np\n",
        "import requests\n",
        "import os"
      ],
      "execution_count": null,
      "outputs": []
    },
    {
      "cell_type": "markdown",
      "metadata": {
        "id": "jLE1oNU1IDjc"
      },
      "source": [
        "## Cgoose Model"
      ]
    },
    {
      "cell_type": "code",
      "metadata": {
        "id": "-5VP3wDbIFj6"
      },
      "source": [
        "models = {\n",
        "    \"convmixer_1536_20\": \"https://tfhub.dev/rishit-dagli/convmixer-1536-20/1\",\n",
        "    \"convmixer_768_32\": \"https://tfhub.dev/rishit-dagli/convmixer-768-32/1\",\n",
        "    \"convmixer_1024_20\": \"https://tfhub.dev/rishit-dagli/convmixer-1024-20/1\",\n",
        "}"
      ],
      "execution_count": null,
      "outputs": []
    },
    {
      "cell_type": "code",
      "metadata": {
        "id": "rWHLylFTHMpZ"
      },
      "source": [
        "# fmt: off\n",
        "\n",
        "#@title Choose Model variant\n",
        "model_variant = \"convmixer_1536_20\" #@param ['convmixer_1536_20', 'convmixer_768_32', 'convmixer_1024_20']\n",
        "resolution = [224, 224] \n",
        "num_classes = 1000\n",
        "\n",
        "# fmt: on"
      ],
      "execution_count": null,
      "outputs": []
    },
    {
      "cell_type": "markdown",
      "metadata": {
        "id": "_0KdS1fyKxUN"
      },
      "source": [
        "## Image preprocessing utilities (adapted from [Willi Gierke](https://ch.linkedin.com/in/willi-gierke))"
      ]
    },
    {
      "cell_type": "code",
      "metadata": {
        "colab": {
          "base_uri": "https://localhost:8080/"
        },
        "id": "Y8zHPPKNKwHO",
        "outputId": "f3684739-0a10-4e00-940d-64acb07891d1"
      },
      "source": [
        "def preprocess_image(image):\n",
        "    image = np.array(image)\n",
        "    image_resized = tf.image.resize(image, (resolution[0], resolution[1]))\n",
        "    image_resized = tf.cast(image_resized, tf.float32)\n",
        "    image_resized = image_resized / 255\n",
        "    image_resized = tf.keras.layers.Normalization(\n",
        "        mean=(0.485, 0.456, 0.406), variance=(0.052441, 0.050176, 0.050625)\n",
        "    )(image_resized)\n",
        "    return tf.expand_dims(image_resized, 0).numpy()\n",
        "\n",
        "\n",
        "def load_image_from_url(url):\n",
        "    response = requests.get(url)\n",
        "    image = Image.open(BytesIO(response.content))\n",
        "    image = preprocess_image(image)\n",
        "    return image\n",
        "    \n",
        "!wget https://storage.googleapis.com/bit_models/ilsvrc2012_wordnet_lemmas.txt -O ilsvrc2012_wordnet_lemmas.txt"
      ],
      "execution_count": null,
      "outputs": [
        {
          "output_type": "stream",
          "name": "stdout",
          "text": [
            "--2021-10-31 03:51:46--  https://storage.googleapis.com/bit_models/ilsvrc2012_wordnet_lemmas.txt\n",
            "Resolving storage.googleapis.com (storage.googleapis.com)... 64.233.191.128, 173.194.74.128, 173.194.192.128, ...\n",
            "Connecting to storage.googleapis.com (storage.googleapis.com)|64.233.191.128|:443... connected.\n",
            "HTTP request sent, awaiting response... 200 OK\n",
            "Length: 21675 (21K) [text/plain]\n",
            "Saving to: ‘ilsvrc2012_wordnet_lemmas.txt’\n",
            "\n",
            "\r          ilsvrc201   0%[                    ]       0  --.-KB/s               \rilsvrc2012_wordnet_ 100%[===================>]  21.17K  --.-KB/s    in 0s      \n",
            "\n",
            "2021-10-31 03:51:47 (43.8 MB/s) - ‘ilsvrc2012_wordnet_lemmas.txt’ saved [21675/21675]\n",
            "\n"
          ]
        }
      ]
    },
    {
      "cell_type": "markdown",
      "metadata": {
        "id": "ZT49oH5GLfZh"
      },
      "source": [
        "## Load Image and infer"
      ]
    },
    {
      "cell_type": "code",
      "metadata": {
        "id": "dtT1LXFhLHbM"
      },
      "source": [
        "model = hub.load(models[model_variant])"
      ],
      "execution_count": null,
      "outputs": []
    },
    {
      "cell_type": "code",
      "metadata": {
        "id": "XnTNhKz-LjUp"
      },
      "source": [
        "with open(\"ilsvrc2012_wordnet_lemmas.txt\", \"r\") as f:\n",
        "    lines = f.readlines()\n",
        "imagenet_int_to_str = [line.rstrip() for line in lines]\n",
        "\n",
        "def infer_on_image(img_url, expected_label):\n",
        "    image = load_image_from_url(img_url)\n",
        "    predictions = model.signatures[\"serving_default\"](tf.constant(image))\n",
        "    logits = predictions[\"output\"][0]\n",
        "    predicted_label = imagenet_int_to_str[int(np.argmax(logits))]\n",
        "    assert (\n",
        "        predicted_label == expected_label\n",
        "    ), f\"Expected {expected_label} but was {predicted_label}\""
      ],
      "execution_count": null,
      "outputs": []
    },
    {
      "cell_type": "markdown",
      "metadata": {
        "id": "96eqDoVyLlux"
      },
      "source": [
        "Let's try 5 images"
      ]
    },
    {
      "cell_type": "code",
      "metadata": {
        "id": "XeDPO2q3LnAx"
      },
      "source": [
        "infer_on_image(img_url = \"https://storage.googleapis.com/rishit-dagli.appspot.com/sample-images/mH0Wrvb.jpg\", expected_label = \"goldfish, Carassius_auratus\")\n",
        "infer_on_image(img_url = \"https://storage.googleapis.com/rishit-dagli.appspot.com/sample-images/A5m4ZG1.jpg\", expected_label = \"scorpion\")\n",
        "infer_on_image(img_url = \"https://storage.googleapis.com/rishit-dagli.appspot.com/sample-images/faOAEFg.jpg\", expected_label = \"leatherback_turtle, leatherback, leathery_turtle, Dermochelys_coriacea\")\n",
        "infer_on_image(img_url = \"https://storage.googleapis.com/rishit-dagli.appspot.com/sample-images/lfhdaSi.jpg\", expected_label = \"Siamese_cat, Siamese\")\n",
        "infer_on_image(img_url = \"https://storage.googleapis.com/rishit-dagli.appspot.com/sample-images/Qwa8wHX.jpg\", expected_label = \"boa_constrictor, Constrictor_constrictor\")"
      ],
      "execution_count": null,
      "outputs": []
    }
  ]
}